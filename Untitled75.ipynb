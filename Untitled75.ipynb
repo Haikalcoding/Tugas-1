{
  "nbformat": 4,
  "nbformat_minor": 0,
  "metadata": {
    "colab": {
      "name": "Untitled75.ipynb",
      "provenance": [],
      "collapsed_sections": [],
      "include_colab_link": true
    },
    "kernelspec": {
      "name": "python3",
      "display_name": "Python 3"
    },
    "language_info": {
      "name": "python"
    }
  },
  "cells": [
    {
      "cell_type": "markdown",
      "metadata": {
        "id": "view-in-github",
        "colab_type": "text"
      },
      "source": [
        "<a href=\"https://colab.research.google.com/github/Haikalcoding/Tugas-1/blob/main/Untitled75.ipynb\" target=\"_parent\"><img src=\"https://colab.research.google.com/assets/colab-badge.svg\" alt=\"Open In Colab\"/></a>"
      ]
    },
    {
      "cell_type": "code",
      "execution_count": null,
      "metadata": {
        "colab": {
          "base_uri": "https://localhost:8080/"
        },
        "id": "6x5lqCMz6O0S",
        "outputId": "fda1f6a2-763d-4175-9ed1-4ef262497136"
      },
      "outputs": [
        {
          "output_type": "stream",
          "name": "stdout",
          "text": [
            "masuk harga barang:90\n",
            "tidak termasuk harga barang di toko\n"
          ]
        }
      ],
      "source": [
        "\n",
        "harga_barang = int(input(\"masuk harga barang:\"))\n",
        "if (harga_barang >= 500 and harga_barang <=1000):\n",
        "  print(\"mahal\")\n",
        "elif (harga_barang >= 250 and harga_barang <=499):\n",
        "  print(\"murah\")\n",
        "elif(harga_barang >= 100 and harga_barang <=249):\n",
        "  print(\"harga diskon\")\n",
        "else:\n",
        "  print(\"tidak termasuk harga barang di toko\")"
      ]
    }
  ]
}