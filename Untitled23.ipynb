{
  "nbformat": 4,
  "nbformat_minor": 0,
  "metadata": {
    "colab": {
      "name": "Untitled23.ipynb",
      "provenance": [],
      "collapsed_sections": [],
      "authorship_tag": "ABX9TyMLvXjq99b/8mK/iYO9aEfy",
      "include_colab_link": true
    },
    "kernelspec": {
      "name": "python3",
      "display_name": "Python 3"
    },
    "language_info": {
      "name": "python"
    }
  },
  "cells": [
    {
      "cell_type": "markdown",
      "metadata": {
        "id": "view-in-github",
        "colab_type": "text"
      },
      "source": [
        "<a href=\"https://colab.research.google.com/github/Haikalcoding/Tugas-1/blob/main/Untitled23.ipynb\" target=\"_parent\"><img src=\"https://colab.research.google.com/assets/colab-badge.svg\" alt=\"Open In Colab\"/></a>"
      ]
    },
    {
      "cell_type": "code",
      "execution_count": 11,
      "metadata": {
        "colab": {
          "base_uri": "https://localhost:8080/"
        },
        "id": "Fgx12dtFAIKL",
        "outputId": "39a2ffa4-aff8-4a83-d7db-30757a8c6d4a"
      },
      "outputs": [
        {
          "output_type": "stream",
          "name": "stdout",
          "text": [
            "['haikal', 'edwin', 'ryan', 'efor']\n",
            "['haikal', 'yayat', 'ryan', 'efor']\n",
            "['haikal', 'yayat', 'fadil', 'ryan', 'efor']\n"
          ]
        }
      ],
      "source": [
        "#contoh list\n",
        "\n",
        "nama= ['haikal','edwin', 'ryan','efor','fadil']\n",
        "print(nama)\n",
        "\n",
        "for i in range(len(nama)):\n",
        "  print(nama [i])\n",
        "\n",
        "nama [1] = 'yayat'\n",
        "print (nama)\n",
        "\n",
        "nama.pop (3) \n",
        "print (nama)\n",
        "\n",
        "nama.insert (2, 'fadil')\n",
        "print (nama)\n",
        "\n"
      ]
    },
    {
      "cell_type": "code",
      "source": [
        "#contoh Set \n",
        "sett = {1, 2, 3, 4, 5, 6, 7, 8} \n",
        "\n",
        "for i in sett:\n",
        "  print(i)\n",
        "\n",
        "sett = list(sett)\n",
        "\n",
        "sett [2] = 9 #update\n",
        "\n",
        "sett.append(10) #menambah\n",
        "\n",
        "sett.pop(0) # menghapus\n",
        "\n",
        "sett = set(sett)\n",
        "\n",
        "print(sett)"
      ],
      "metadata": {
        "id": "fD1uTSQ5yYl9"
      },
      "execution_count": null,
      "outputs": []
    },
    {
      "cell_type": "code",
      "source": [
        "#tuple\n",
        "nama= (\"haikal\",\"edwin\",\"ryan\",\"efor\",\"fadil\")\n",
        "\n",
        "for a in range (len ( nama)):\n",
        "\tprint (nama[a])\n",
        "\t\n",
        "nama = list (nama )\n",
        "nama [1] = 'yayat'\n",
        "print (nama)\n",
        "\n",
        "nama.pop (2)\n",
        "print (nama)\n",
        "\n",
        "nama.insert (3'mulham')"
      ],
      "metadata": {
        "id": "dbBGO7ksyyl6"
      },
      "execution_count": null,
      "outputs": []
    },
    {
      "cell_type": "code",
      "source": [
        "#contoh Dictionary\n",
        "dictionary = {'nama': 'haikal', 'fakultas': 'teknik'}\n",
        " \n",
        "for i in dictionary :\n",
        "  print (\"key:\",i,\".=>value:\", dictionary [i])\n",
        "dictionary ['nama'] = 'haikal'\n",
        "print(dictionary)\n",
        "dictionary.update({'alamat': 'tubo'})\n",
        "print(dictionary)\n",
        "dictionary.pop('nama')\n",
        "print(dictionary)"
      ],
      "metadata": {
        "colab": {
          "base_uri": "https://localhost:8080/"
        },
        "id": "C6avFhC-pLBX",
        "outputId": "98367edd-7b5c-4388-c5ba-cff01af86b15"
      },
      "execution_count": 45,
      "outputs": [
        {
          "output_type": "stream",
          "name": "stdout",
          "text": [
            "key: nama .=>value: haikal\n",
            "key: fakultas .=>value: teknik\n",
            "{'nama': 'haikal', 'fakultas': 'teknik'}\n",
            "{'nama': 'haikal', 'fakultas': 'teknik', 'alamat': 'tubo'}\n",
            "{'fakultas': 'teknik', 'alamat': 'tubo'}\n"
          ]
        }
      ]
    }
  ]
}